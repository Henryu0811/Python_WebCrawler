{
 "cells": [
  {
   "cell_type": "markdown",
   "id": "e988d142",
   "metadata": {},
   "source": [
    "# 5-2"
   ]
  },
  {
   "cell_type": "code",
   "execution_count": 6,
   "id": "9733c5c5",
   "metadata": {},
   "outputs": [
    {
     "name": "stdout",
     "output_type": "stream",
     "text": [
      "1 1.73 63.0 21.05\n",
      "2 1.63 47.0 17.69\n",
      "3 1.55 42.0 17.48\n",
      "[[21.05, 1], [17.69, 2], [17.48, 3]]\n"
     ]
    }
   ],
   "source": [
    "import sqlite3\n",
    "\n",
    "# 連接資料庫\n",
    "conn = sqlite3.connect('D:/SQL_Lite/test.db')\n",
    "\n",
    "try:\n",
    "    info = []\n",
    "    # 建立一個 cursor 物件\n",
    "    cur = conn.cursor()\n",
    "    rows = cur.execute('SELECT * FROM person') # execute 執行 SQL 語法\n",
    "    for row in rows:\n",
    "        id = row[0]\n",
    "        height = row[2]\n",
    "        weight = row[3]\n",
    "        bmi = round(weight/height**2, 2)\n",
    "        print(id, height, weight, bmi)\n",
    "        \n",
    "        # 將資料存入 info\n",
    "        info.append([bmi, id])\n",
    "    print(info)\n",
    "    # 將資料一筆一筆存入資料庫\n",
    "    for data in info:\n",
    "        cur.execute('UPDATE person SET bmi=%d WHERE id=%d' % (data[0], data[1]))\n",
    "    # commit 將資料存到實體檔案\n",
    "    conn.commit()\n",
    "\n",
    "finally:\n",
    "    conn.close()"
   ]
  },
  {
   "cell_type": "markdown",
   "id": "fd8ede03",
   "metadata": {},
   "source": [
    "# 5-4"
   ]
  },
  {
   "cell_type": "code",
   "execution_count": 13,
   "id": "6ce1744a",
   "metadata": {
    "scrolled": true
   },
   "outputs": [
    {
     "name": "stdout",
     "output_type": "stream",
     "text": [
      "insert general table\n",
      "finish\n"
     ]
    },
    {
     "ename": "IntegrityError",
     "evalue": "UNIQUE constraint failed: nba_general.player_id",
     "output_type": "error",
     "traceback": [
      "\u001b[1;31m---------------------------------------------------------------------------\u001b[0m",
      "\u001b[1;31mIntegrityError\u001b[0m                            Traceback (most recent call last)",
      "Input \u001b[1;32mIn [13]\u001b[0m, in \u001b[0;36m<cell line: 22>\u001b[1;34m()\u001b[0m\n\u001b[0;32m     28\u001b[0m \u001b[38;5;66;03m# 先再資料庫建好 table，核對好要存取的資料的索引值，開始一筆一筆存到資料庫\u001b[39;00m\n\u001b[0;32m     29\u001b[0m \u001b[38;5;28;01mfor\u001b[39;00m gen_data \u001b[38;5;129;01min\u001b[39;00m gen_datas[\u001b[38;5;124m'\u001b[39m\u001b[38;5;124mresultSets\u001b[39m\u001b[38;5;124m'\u001b[39m][\u001b[38;5;241m0\u001b[39m][\u001b[38;5;124m'\u001b[39m\u001b[38;5;124mrowSet\u001b[39m\u001b[38;5;124m'\u001b[39m]:\n\u001b[0;32m     30\u001b[0m     \u001b[38;5;66;03m# 用 execute() 執行 SQL，在函式中放入兩個參數，第一個是 SQL 字串，但是裡面要放入的資料先用 ? 表示，\u001b[39;00m\n\u001b[0;32m     31\u001b[0m     \u001b[38;5;66;03m# 第二個參數，將要存放的資料用 () 包起來，依照前面的問號依序擺放，會使 SQL 看起來簡潔一點\u001b[39;00m\n\u001b[1;32m---> 32\u001b[0m     \u001b[43mcur\u001b[49m\u001b[38;5;241;43m.\u001b[39;49m\u001b[43mexecute\u001b[49m\u001b[43m(\u001b[49m\u001b[38;5;124;43m'\u001b[39;49m\u001b[38;5;124;43mINSERT INTO nba_general(player_id, player_name, gp, pts, fgm, fga, fg_per) values (?, ?, ?, ?, ?, ?, ?)\u001b[39;49m\u001b[38;5;124;43m'\u001b[39;49m\u001b[43m,\u001b[49m\n\u001b[0;32m     33\u001b[0m \u001b[43m                \u001b[49m\u001b[43m(\u001b[49m\u001b[43mgen_data\u001b[49m\u001b[43m[\u001b[49m\u001b[38;5;241;43m0\u001b[39;49m\u001b[43m]\u001b[49m\u001b[43m,\u001b[49m\u001b[43m \u001b[49m\u001b[43mgen_data\u001b[49m\u001b[43m[\u001b[49m\u001b[38;5;241;43m1\u001b[39;49m\u001b[43m]\u001b[49m\u001b[43m,\u001b[49m\u001b[43m \u001b[49m\u001b[43mgen_data\u001b[49m\u001b[43m[\u001b[49m\u001b[38;5;241;43m6\u001b[39;49m\u001b[43m]\u001b[49m\u001b[43m,\u001b[49m\u001b[43m \u001b[49m\u001b[43mgen_data\u001b[49m\u001b[43m[\u001b[49m\u001b[38;5;241;43m30\u001b[39;49m\u001b[43m]\u001b[49m\u001b[43m,\u001b[49m\u001b[43m \u001b[49m\u001b[43mgen_data\u001b[49m\u001b[43m[\u001b[49m\u001b[38;5;241;43m11\u001b[39;49m\u001b[43m]\u001b[49m\u001b[43m,\u001b[49m\u001b[43m \u001b[49m\u001b[43mgen_data\u001b[49m\u001b[43m[\u001b[49m\u001b[38;5;241;43m12\u001b[39;49m\u001b[43m]\u001b[49m\u001b[43m,\u001b[49m\u001b[43m \u001b[49m\u001b[43mgen_data\u001b[49m\u001b[43m[\u001b[49m\u001b[38;5;241;43m32\u001b[39;49m\u001b[43m]\u001b[49m\u001b[43m)\u001b[49m\u001b[43m)\u001b[49m\n\u001b[0;32m     35\u001b[0m sho_url \u001b[38;5;241m=\u001b[39m \u001b[38;5;124m'\u001b[39m\u001b[38;5;124mhttps://stats.nba.com/stats/leaguedashplayershotlocations?College=&Conference=&Country=&DateFrom=&DateTo=&DistanceRange=By+Zone&Division=&DraftPick=&DraftYear=&GameScope=&GameSegment=&Height=&LastNGames=0&LeagueID=00&Location=&MeasureType=Base&Month=0&OpponentTeamID=0&Outcome=&PORound=0&PaceAdjust=N&PerMode=PerGame&Period=0&PlayerExperience=&PlayerPosition=&PlusMinus=N&Rank=N&Season=2021-22&SeasonSegment=&SeasonType=Regular+Season&ShotClockRange=&StarterBench=&TeamID=0&VsConference=&VsDivision=&Weight=\u001b[39m\u001b[38;5;124m'\u001b[39m\n\u001b[0;32m     36\u001b[0m sho_resp \u001b[38;5;241m=\u001b[39m requests\u001b[38;5;241m.\u001b[39mget(sho_url, headers\u001b[38;5;241m=\u001b[39mcustom_headers)\n",
      "\u001b[1;31mIntegrityError\u001b[0m: UNIQUE constraint failed: nba_general.player_id"
     ]
    }
   ],
   "source": [
    "import sqlite3\n",
    "import requests\n",
    "import json\n",
    "\n",
    "# 向主機丟 request 的時候需要使用\n",
    "custom_headers = {\n",
    "    'Host': 'stats.nba.com',\n",
    "    'User-Agent': 'Mozilla/5.0 (Windows NT 10.0; Win64; x64; rv:72.0) Gecko/20100101 Firefox/72.0',\n",
    "    'Accept': 'application/json, text/plain, */*',\n",
    "    'Accept-Language': 'en-US,en;q=0.5',\n",
    "    'Accept-Encoding': 'gzip, deflate, br',\n",
    "    'x-nba-stats-origin': 'stats',\n",
    "    'x-nba-stats-token': 'true',\n",
    "    'Connection': 'keep-alive',\n",
    "    'Referer': 'https://stats.nba.com/',\n",
    "    'Pragma': 'no-cache',\n",
    "    'Cache-Control': 'no-cache',\n",
    "}\n",
    "\n",
    "conn = sqlite3.connect('D:/SQL_Lite/test.db')\n",
    "cur = conn.cursor()\n",
    "try:\n",
    "    gen_url = 'https://stats.nba.com/stats/leaguedashplayerstats?College=&Conference=&Country=&DateFrom=&DateTo=&Division=&DraftPick=&DraftYear=&GameScope=&GameSegment=&Height=&LastNGames=0&LeagueID=00&Location=&MeasureType=Base&Month=0&OpponentTeamID=0&Outcome=&PORound=0&PaceAdjust=N&PerMode=PerGame&Period=0&PlayerExperience=&PlayerPosition=&PlusMinus=N&Rank=N&Season=2021-22&SeasonSegment=&SeasonType=Playoffs&ShotClockRange=&StarterBench=&TeamID=0&TwoWay=0&VsConference=&VsDivision=&Weight='\n",
    "    # 用 api 網址和 header 取得主機回傳的 response\n",
    "    gen_resp = requests.get(gen_url, headers = custom_headers)\n",
    "    gen_datas = json.loads(gen_resp.text)\n",
    "    print('insert general table')\n",
    "    # 先再資料庫建好 table，核對好要存取的資料的索引值，開始一筆一筆存到資料庫\n",
    "    for gen_data in gen_datas['resultSets'][0]['rowSet']:\n",
    "        # 用 execute() 執行 SQL，在函式中放入兩個參數，第一個是 SQL 字串，但是裡面要放入的資料先用 ? 表示，\n",
    "        # 第二個參數，將要存放的資料用 () 包起來，依照前面的問號依序擺放，會使 SQL 看起來簡潔一點\n",
    "        cur.execute('INSERT INTO nba_general(player_id, player_name, gp, pts, fgm, fga, fg_per) values (?, ?, ?, ?, ?, ?, ?)',\n",
    "                    (gen_data[0], gen_data[1], gen_data[6], gen_data[30], gen_data[11], gen_data[12], gen_data[32]))\n",
    "    \n",
    "    sho_url = 'https://stats.nba.com/stats/leaguedashplayershotlocations?College=&Conference=&Country=&DateFrom=&DateTo=&DistanceRange=By+Zone&Division=&DraftPick=&DraftYear=&GameScope=&GameSegment=&Height=&LastNGames=0&LeagueID=00&Location=&MeasureType=Base&Month=0&OpponentTeamID=0&Outcome=&PORound=0&PaceAdjust=N&PerMode=PerGame&Period=0&PlayerExperience=&PlayerPosition=&PlusMinus=N&Rank=N&Season=2021-22&SeasonSegment=&SeasonType=Regular+Season&ShotClockRange=&StarterBench=&TeamID=0&VsConference=&VsDivision=&Weight='\n",
    "    sho_resp = requests.get(sho_url, headers=custom_headers)\n",
    "    sho_datas = json.loads(sho_resp.text)\n",
    "    print('insert shooting table')\n",
    "    for sho_data in sho_datas['resultSets']['rowSet']:\n",
    "        cur.execute('INSERT INTO nba_shooting (player_id, res_fgm, res_fga, res_fg_per, pai_fgm, pai_fga, pai_fg_per, mid_fgm, mid_fga, mid_fg_per, left3_fgm, left3_fga, left3_fg_per, right3_fgm, right3_fga, right3_fg_per, pt3_fgm, pt3_fga, pt3_fg_per) values (?, ?, ?, ?, ?, ?, ?, ?, ?, ?, ?, ?, ?, ?, ?, ?, ?, ?, ?)',\n",
    "                    (sho_data[0], sho_data[6], sho_data[7], sho_data[8], sho_data[9], sho_data[10], sho_data[11], sho_data[12], sho_data[13], sho_data[14], sho_data[15], sho_data[16], sho_data[17], sho_data[18], sho_data[19], sho_data[20], sho_data[21], sho_data[22], sho_data[23]))\n",
    "    \n",
    "    # 用 commit 將資料儲存到實體檔案中\n",
    "    conn.commit()                \n",
    "                    \n",
    "finally:\n",
    "    conn.close()\n",
    "    print('finish')"
   ]
  },
  {
   "cell_type": "code",
   "execution_count": null,
   "id": "6d524050",
   "metadata": {},
   "outputs": [],
   "source": []
  }
 ],
 "metadata": {
  "kernelspec": {
   "display_name": "Python 3 (ipykernel)",
   "language": "python",
   "name": "python3"
  },
  "language_info": {
   "codemirror_mode": {
    "name": "ipython",
    "version": 3
   },
   "file_extension": ".py",
   "mimetype": "text/x-python",
   "name": "python",
   "nbconvert_exporter": "python",
   "pygments_lexer": "ipython3",
   "version": "3.9.12"
  }
 },
 "nbformat": 4,
 "nbformat_minor": 5
}
