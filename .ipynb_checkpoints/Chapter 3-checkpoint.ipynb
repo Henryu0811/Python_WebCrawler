{
 "cells": [
  {
   "cell_type": "markdown",
   "id": "28e0afaf",
   "metadata": {},
   "source": [
    "# 3-1"
   ]
  },
  {
   "cell_type": "code",
   "execution_count": 4,
   "id": "e1f13b6a",
   "metadata": {},
   "outputs": [
    {
     "name": "stdout",
     "output_type": "stream",
     "text": [
      "Hello World\n"
     ]
    }
   ],
   "source": [
    "print('Hello World')"
   ]
  },
  {
   "cell_type": "markdown",
   "id": "bc61a95c",
   "metadata": {},
   "source": [
    "# 3-2"
   ]
  },
  {
   "cell_type": "code",
   "execution_count": 1,
   "id": "214f3365",
   "metadata": {},
   "outputs": [
    {
     "name": "stdout",
     "output_type": "stream",
     "text": [
      "Data Analyst\n"
     ]
    }
   ],
   "source": [
    "job = 'Data Analyst'\n",
    "print(job)"
   ]
  },
  {
   "cell_type": "code",
   "execution_count": 3,
   "id": "9953aa79",
   "metadata": {},
   "outputs": [
    {
     "name": "stdout",
     "output_type": "stream",
     "text": [
      "輸入職稱： Data Analyst\n",
      "Data Analyst\n"
     ]
    }
   ],
   "source": [
    "job = input('輸入職稱： ')\n",
    "print(job)"
   ]
  },
  {
   "cell_type": "markdown",
   "id": "f80d0134",
   "metadata": {},
   "source": [
    "# 3-4"
   ]
  },
  {
   "cell_type": "code",
   "execution_count": 10,
   "id": "5e6ee701",
   "metadata": {},
   "outputs": [
    {
     "name": "stdout",
     "output_type": "stream",
     "text": [
      "請輸入數字： 1\n",
      "2\n"
     ]
    }
   ],
   "source": [
    "# 異常錯誤例外處理\n",
    "try:\n",
    "    num = input('請輸入數字： ')\n",
    "    num = int(num)\n",
    "    total = num + 1\n",
    "    print(total)\n",
    "except ValueError:\n",
    "    print('請輸入數字')\n",
    "except:\n",
    "    print('發生錯誤')"
   ]
  },
  {
   "cell_type": "code",
   "execution_count": 12,
   "id": "e3092b49",
   "metadata": {},
   "outputs": [
    {
     "name": "stdout",
     "output_type": "stream",
     "text": [
      "請輸入數字： 1\n",
      "2\n",
      "成功執行\n",
      "程式結束\n"
     ]
    }
   ],
   "source": [
    "# else, finally\n",
    "try:\n",
    "    num = input('請輸入數字： ')\n",
    "    num = int(num)\n",
    "    total = num + 1\n",
    "    print(total)\n",
    "except ValueError:\n",
    "    print('請輸入數字')\n",
    "except:\n",
    "    print('發生錯誤')\n",
    "else:\n",
    "    print('成功執行')\n",
    "finally:\n",
    "    print('程式結束')"
   ]
  },
  {
   "cell_type": "markdown",
   "id": "678079f8",
   "metadata": {},
   "source": [
    "# 3-5"
   ]
  },
  {
   "cell_type": "code",
   "execution_count": 13,
   "id": "cc3a212b",
   "metadata": {},
   "outputs": [
    {
     "name": "stdout",
     "output_type": "stream",
     "text": [
      "a大於0\n"
     ]
    }
   ],
   "source": [
    "a = 1\n",
    "if(a>0):\n",
    "    print('a大於0')\n",
    "elif(a==0):\n",
    "    print('a等於0')\n",
    "else:\n",
    "    print('a小於0')"
   ]
  },
  {
   "cell_type": "code",
   "execution_count": 19,
   "id": "6f9098d9",
   "metadata": {},
   "outputs": [
    {
     "name": "stdout",
     "output_type": "stream",
     "text": [
      "輸入身高(m)1.73\n",
      "輸入體甕(kg)63\n",
      "BMI值：  21.04981790236894\n",
      "正常\n"
     ]
    }
   ],
   "source": [
    "h = float(input('輸入身高(m)'))\n",
    "w = float(input('輸入體甕(kg)'))\n",
    "bmi = w / (h**2)\n",
    "\n",
    "print('BMI值： ', bmi)\n",
    "\n",
    "if(bmi>18.5 and bmi<24):\n",
    "    print('正常')\n",
    "elif(bmi>=24  and bmi<27):\n",
    "    print('過重')"
   ]
  },
  {
   "cell_type": "markdown",
   "id": "fcdcb280",
   "metadata": {},
   "source": [
    "# 3-6  函式"
   ]
  },
  {
   "cell_type": "code",
   "execution_count": 24,
   "id": "68fb6427",
   "metadata": {},
   "outputs": [
    {
     "name": "stdout",
     "output_type": "stream",
     "text": [
      "Hello Henry, you're a Data Analyst.\n"
     ]
    }
   ],
   "source": [
    "def sayHello(name, job):\n",
    "    print('Hello ' + name + ', you\\'re a ' + job + '.')\n",
    "\n",
    "sayHello(job = 'Data Analyst', name = 'Henry')"
   ]
  },
  {
   "cell_type": "code",
   "execution_count": 25,
   "id": "06423792",
   "metadata": {},
   "outputs": [
    {
     "name": "stdout",
     "output_type": "stream",
     "text": [
      "('a', 'b', 'c')\n"
     ]
    }
   ],
   "source": [
    "def foo(*tmp):\n",
    "    print(tmp)\n",
    "    \n",
    "foo('a', 'b', 'c')"
   ]
  },
  {
   "cell_type": "markdown",
   "id": "b1c748a4",
   "metadata": {},
   "source": [
    "# 3-7"
   ]
  },
  {
   "cell_type": "code",
   "execution_count": 47,
   "id": "d2073050",
   "metadata": {},
   "outputs": [
    {
     "data": {
      "text/plain": [
       "[1, 5, 4]"
      ]
     },
     "execution_count": 47,
     "metadata": {},
     "output_type": "execute_result"
    }
   ],
   "source": [
    "# List\n",
    "\n",
    "list1 = [3, 1, 5, 4, 2]\n",
    "list1[1:4]"
   ]
  },
  {
   "cell_type": "code",
   "execution_count": 48,
   "id": "8ee994a9",
   "metadata": {},
   "outputs": [
    {
     "data": {
      "text/plain": [
       "[3, 1, 5, 4, 2, 6, 7, 8]"
      ]
     },
     "execution_count": 48,
     "metadata": {},
     "output_type": "execute_result"
    }
   ],
   "source": [
    "# append()，增加一個元素\n",
    "# extend()，增加多個元素\n",
    "list1.append(6)\n",
    "list2 = [7, 8]\n",
    "list1.extend(list2)\n",
    "list1"
   ]
  },
  {
   "cell_type": "code",
   "execution_count": 49,
   "id": "115bfc0b",
   "metadata": {},
   "outputs": [
    {
     "data": {
      "text/plain": [
       "[3, 1, 4, 2, 6, 7]"
      ]
     },
     "execution_count": 49,
     "metadata": {},
     "output_type": "execute_result"
    }
   ],
   "source": [
    "# pop()，移除()內索引值對應數字\n",
    "# remove()，移除()內數字\n",
    "list1.pop(2)\n",
    "list1.remove(8)\n",
    "list1"
   ]
  },
  {
   "cell_type": "code",
   "execution_count": 56,
   "id": "b11162c1",
   "metadata": {},
   "outputs": [
    {
     "data": {
      "text/plain": [
       "[1, 2, 3, 3, 3, 4, 5]"
      ]
     },
     "execution_count": 56,
     "metadata": {},
     "output_type": "execute_result"
    }
   ],
   "source": [
    "# reverse()，排列相反\n",
    "# sort()，reverse=True是降冪排列\n",
    "list3 = [3, 3, 3, 1, 5, 2, 4]\n",
    "list3.sort(reverse=True)\n",
    "list3.reverse()\n",
    "list3"
   ]
  },
  {
   "cell_type": "code",
   "execution_count": 57,
   "id": "d14223f0",
   "metadata": {},
   "outputs": [
    {
     "name": "stdout",
     "output_type": "stream",
     "text": [
      "<class 'list'>\n"
     ]
    }
   ],
   "source": [
    "# Tuple\n",
    "# 內容不可變動\n",
    "\n",
    "t = (3, 1, 5, 2, 4)\n",
    "list4 = list(t)\n",
    "print(type(list4))"
   ]
  },
  {
   "cell_type": "code",
   "execution_count": 60,
   "id": "6d08fa80",
   "metadata": {},
   "outputs": [
    {
     "name": "stdout",
     "output_type": "stream",
     "text": [
      "True\n",
      "5\n",
      "3\n"
     ]
    }
   ],
   "source": [
    "# List 和 Tuple 共用\n",
    "# in，? 是否再 ? 內\n",
    "# len，有多少元素\n",
    "# count，算有幾個 ? 元素\n",
    "\n",
    "print(2 in t)\n",
    "print(len(t))\n",
    "print(list3.count(3))"
   ]
  },
  {
   "cell_type": "markdown",
   "id": "7037fef1",
   "metadata": {},
   "source": [
    "# 3-8"
   ]
  },
  {
   "cell_type": "code",
   "execution_count": 64,
   "id": "cf00eda7",
   "metadata": {},
   "outputs": [
    {
     "data": {
      "text/plain": [
       "'No data'"
      ]
     },
     "execution_count": 64,
     "metadata": {},
     "output_type": "execute_result"
    }
   ],
   "source": [
    "# Dictionary，{key1: value1, key2: value2}\n",
    "# key 是唯一值，如果有重複，後面的資料會覆蓋前面的資料\n",
    "# key 放入[]，取得對應的 value\n",
    "# 使用 get() 函式取值，避免 KeyError 的錯誤\n",
    "\n",
    "dict1 = {'a': 1, 'b': 2, 'c': 3, 'c': 5}\n",
    "dict1.get('d', 'No data')"
   ]
  },
  {
   "cell_type": "code",
   "execution_count": 67,
   "id": "8ca5d6bf",
   "metadata": {},
   "outputs": [
    {
     "data": {
      "text/plain": [
       "'B'"
      ]
     },
     "execution_count": 67,
     "metadata": {},
     "output_type": "execute_result"
    }
   ],
   "source": [
    "# key 是 座標，value 是 A\n",
    "\n",
    "dict2 = {(2,3): 'A', (5,-3): 'B', (-1,-5): 'C'}\n",
    "dict2[(5,-3)]"
   ]
  },
  {
   "cell_type": "code",
   "execution_count": 72,
   "id": "0710d67f",
   "metadata": {},
   "outputs": [
    {
     "data": {
      "text/plain": [
       "dict_items([((2, 3), 'A'), ((5, -3), 'B'), ((-1, -5), 'C')])"
      ]
     },
     "execution_count": 72,
     "metadata": {},
     "output_type": "execute_result"
    }
   ],
   "source": [
    "# keys()，印出所有 key 值\n",
    "# values()，印出所有 value 值\n",
    "# items()，印出字典中所有元素\n",
    "\n",
    "dict2.keys()\n",
    "dict2.values()\n",
    "dict2.items()"
   ]
  },
  {
   "cell_type": "code",
   "execution_count": 80,
   "id": "90893b02",
   "metadata": {},
   "outputs": [
    {
     "data": {
      "text/plain": [
       "{'d': 5}"
      ]
     },
     "execution_count": 80,
     "metadata": {},
     "output_type": "execute_result"
    }
   ],
   "source": [
    "dict1['d'] = 4\n",
    "dict1['d'] = 5\n",
    "dict1"
   ]
  },
  {
   "cell_type": "code",
   "execution_count": 81,
   "id": "7c8c0b32",
   "metadata": {},
   "outputs": [
    {
     "data": {
      "text/plain": [
       "{}"
      ]
     },
     "execution_count": 81,
     "metadata": {},
     "output_type": "execute_result"
    }
   ],
   "source": [
    "# del，刪除指定的\n",
    "# clear，清空\n",
    "\n",
    "del dict1['d']\n",
    "dict1.clear()\n",
    "dict1"
   ]
  },
  {
   "cell_type": "markdown",
   "id": "5dfd50a8",
   "metadata": {},
   "source": [
    "# 3-9"
   ]
  },
  {
   "cell_type": "code",
   "execution_count": 85,
   "id": "9816c26e",
   "metadata": {},
   "outputs": [
    {
     "data": {
      "text/plain": [
       "{'a', 'd', 'e', 'g', 'n', 'u'}"
      ]
     },
     "execution_count": 85,
     "metadata": {},
     "output_type": "execute_result"
    }
   ],
   "source": [
    "# Set\n",
    "# 元素不能重複，也沒有順序性，無法使用索引值取值\n",
    "# 用大括弧包起來，逗號分隔\n",
    "\n",
    "V = {'a', 'e', 'u', 'i', 'o'}\n",
    "F = {'d', 'n', 'g', 'i', 'o'}\n",
    "# 聯集 |\n",
    "V | F\n",
    "# 交集 &\n",
    "V & F\n",
    "# 差集 -\n",
    "V - F\n",
    "# 排除相同元素 ^\n",
    "V ^ F"
   ]
  },
  {
   "cell_type": "code",
   "execution_count": 93,
   "id": "5da678cb",
   "metadata": {},
   "outputs": [
    {
     "data": {
      "text/plain": [
       "{1, 2, 3, 4, 5, 6, 7}"
      ]
     },
     "execution_count": 93,
     "metadata": {},
     "output_type": "execute_result"
    }
   ],
   "source": [
    "# add()，只能新增一個元素\n",
    "# update，一次新增多個元素\n",
    "\n",
    "a = {1, 2, 3, 4}\n",
    "a.add(5)\n",
    "a.update({6, 7})\n",
    "a"
   ]
  },
  {
   "cell_type": "code",
   "execution_count": 94,
   "id": "c459bb74",
   "metadata": {},
   "outputs": [
    {
     "data": {
      "text/plain": [
       "{1, 4, 5, 6, 7}"
      ]
     },
     "execution_count": 94,
     "metadata": {},
     "output_type": "execute_result"
    }
   ],
   "source": [
    "# remove，刪除集合中沒有的元素時，會出現 KeyError的錯誤\n",
    "# discard，不會出現錯誤\n",
    "a.remove(2)\n",
    "a.discard(3)\n",
    "a"
   ]
  },
  {
   "cell_type": "code",
   "execution_count": 98,
   "id": "5b72a33a",
   "metadata": {},
   "outputs": [
    {
     "data": {
      "text/plain": [
       "False"
      ]
     },
     "execution_count": 98,
     "metadata": {},
     "output_type": "execute_result"
    }
   ],
   "source": [
    "# in，元素是否在集合中\n",
    "\n",
    "2 in a"
   ]
  },
  {
   "cell_type": "markdown",
   "id": "6cf2091e",
   "metadata": {},
   "source": [
    "# 3-10"
   ]
  },
  {
   "cell_type": "code",
   "execution_count": 99,
   "id": "403e59f6",
   "metadata": {},
   "outputs": [
    {
     "name": "stdout",
     "output_type": "stream",
     "text": [
      "Henry\n",
      "Vicky\n",
      "Agoon\n"
     ]
    }
   ],
   "source": [
    "# for 迴圈\n",
    "\n",
    "names = ['Henry', 'Vicky', 'Agoon']\n",
    "for s in names:\n",
    "    print(s)"
   ]
  },
  {
   "cell_type": "code",
   "execution_count": 100,
   "id": "ac6cf2bb",
   "metadata": {},
   "outputs": [
    {
     "name": "stdout",
     "output_type": "stream",
     "text": [
      "1\n",
      "2\n",
      "3\n"
     ]
    }
   ],
   "source": [
    "dict = {'a': 1, 'b': 2, 'c': 3}\n",
    "for key in dict.keys():\n",
    "    print(dict[key])"
   ]
  },
  {
   "cell_type": "code",
   "execution_count": 105,
   "id": "daf374ec",
   "metadata": {},
   "outputs": [
    {
     "name": "stdout",
     "output_type": "stream",
     "text": [
      "1\n",
      "5\n"
     ]
    }
   ],
   "source": [
    "for i in range(1, 10, 2):\n",
    "    if i == 3:\n",
    "        continue\n",
    "    elif i == 7:\n",
    "        break\n",
    "    print(i)"
   ]
  },
  {
   "cell_type": "code",
   "execution_count": 108,
   "id": "f9483404",
   "metadata": {},
   "outputs": [
    {
     "name": "stdout",
     "output_type": "stream",
     "text": [
      "輸入1到10之間的正整數： 1\n",
      "猜大一點\n",
      "輸入1到10之間的正整數： 2\n",
      "猜大一點\n",
      "輸入1到10之間的正整數： 3\n",
      "猜對了\n"
     ]
    }
   ],
   "source": [
    "# while 迴圈\n",
    "\n",
    "import random # 導入 random 模組\n",
    "\n",
    "n = random.randint(1, 10)\n",
    "guess = int(input('輸入1到10之間的正整數： '))\n",
    "\n",
    "while guess != n:\n",
    "    if guess < n:\n",
    "        print(\"猜大一點\")\n",
    "        guess = int(input('輸入1到10之間的正整數： '))\n",
    "    elif guess > n:\n",
    "        print(\"猜小一點\")\n",
    "        guess = int(input('輸入1到10之間的正整數： '))\n",
    "print(\"猜對了\")\n"
   ]
  },
  {
   "cell_type": "markdown",
   "id": "f9cfb666",
   "metadata": {},
   "source": [
    "# 3-11 Test 1"
   ]
  },
  {
   "cell_type": "markdown",
   "id": "9267ea64",
   "metadata": {},
   "source": [
    "### 題目1：公分(cm)和英吋(in)單位轉換\n",
    "● 1英吋(in) = 2.54公分(cm)  \n",
    "● 請使用者輸入長度和轉換單位。(例如：第一個問題請輸入長度：1，第二個問題請輸入單位：in，最後列印1.000000 in = 2.540000 cm)"
   ]
  },
  {
   "cell_type": "code",
   "execution_count": 16,
   "id": "86d638ec",
   "metadata": {},
   "outputs": [
    {
     "name": "stdout",
     "output_type": "stream",
     "text": [
      "請輸入長度： 1\n",
      "請輸入單位： in\n",
      "1.0 in = 2.54 cm\n"
     ]
    }
   ],
   "source": [
    "length = float(input('請輸入長度： '))\n",
    "unit = str(input('請輸入單位： '))\n",
    "\n",
    "if unit == 'in' or unit == 'IN':\n",
    "    ans = length * 2.54\n",
    "    print(str(length) + ' in = ' + str(ans) + ' cm')\n",
    "elif unit == 'cm' or unit == 'CM':\n",
    "    ans = length / 2.54\n",
    "    print(str(length) + ' cm = ' + str(ans) + ' in')\n"
   ]
  },
  {
   "cell_type": "code",
   "execution_count": 17,
   "id": "ca4a2ec0",
   "metadata": {},
   "outputs": [
    {
     "name": "stdout",
     "output_type": "stream",
     "text": [
      "請輸入長度： 1\n",
      "請輸入單位： in\n",
      "1.000000 in = 2.540000 cm\n"
     ]
    }
   ],
   "source": [
    "# 老師解\n",
    "# 格式化字串，字串(%s)，十進位數字(%d)，浮點數(%f)\n",
    "\n",
    "value = float(input('請輸入長度： '))\n",
    "unit = input('請輸入單位： ')\n",
    "if unit == 'in':\n",
    "    print('%f in = %f cm' % (value, value*2.54))\n",
    "elif init == 'cm':\n",
    "    print('%f cm = %f in' % (value, value/2.54))\n",
    "else:\n",
    "    print('請輸入 cm 或 in 。')"
   ]
  },
  {
   "cell_type": "markdown",
   "id": "a230e759",
   "metadata": {},
   "source": [
    "### 題目2：九九乘法表\n",
    "● 請列出九九乘法表"
   ]
  },
  {
   "cell_type": "code",
   "execution_count": 15,
   "id": "97dc5c3e",
   "metadata": {
    "scrolled": true
   },
   "outputs": [
    {
     "name": "stdout",
     "output_type": "stream",
     "text": [
      "1 * 1 = 1\n",
      "1 * 2 = 2\n",
      "1 * 3 = 3\n",
      "1 * 4 = 4\n",
      "1 * 5 = 5\n",
      "1 * 6 = 6\n",
      "1 * 7 = 7\n",
      "1 * 8 = 8\n",
      "1 * 9 = 9\n",
      "2 * 1 = 2\n",
      "2 * 2 = 4\n",
      "2 * 3 = 6\n",
      "2 * 4 = 8\n",
      "2 * 5 = 10\n",
      "2 * 6 = 12\n",
      "2 * 7 = 14\n",
      "2 * 8 = 16\n",
      "2 * 9 = 18\n",
      "3 * 1 = 3\n",
      "3 * 2 = 6\n",
      "3 * 3 = 9\n",
      "3 * 4 = 12\n",
      "3 * 5 = 15\n",
      "3 * 6 = 18\n",
      "3 * 7 = 21\n",
      "3 * 8 = 24\n",
      "3 * 9 = 27\n",
      "4 * 1 = 4\n",
      "4 * 2 = 8\n",
      "4 * 3 = 12\n",
      "4 * 4 = 16\n",
      "4 * 5 = 20\n",
      "4 * 6 = 24\n",
      "4 * 7 = 28\n",
      "4 * 8 = 32\n",
      "4 * 9 = 36\n",
      "5 * 1 = 5\n",
      "5 * 2 = 10\n",
      "5 * 3 = 15\n",
      "5 * 4 = 20\n",
      "5 * 5 = 25\n",
      "5 * 6 = 30\n",
      "5 * 7 = 35\n",
      "5 * 8 = 40\n",
      "5 * 9 = 45\n",
      "6 * 1 = 6\n",
      "6 * 2 = 12\n",
      "6 * 3 = 18\n",
      "6 * 4 = 24\n",
      "6 * 5 = 30\n",
      "6 * 6 = 36\n",
      "6 * 7 = 42\n",
      "6 * 8 = 48\n",
      "6 * 9 = 54\n",
      "7 * 1 = 7\n",
      "7 * 2 = 14\n",
      "7 * 3 = 21\n",
      "7 * 4 = 28\n",
      "7 * 5 = 35\n",
      "7 * 6 = 42\n",
      "7 * 7 = 49\n",
      "7 * 8 = 56\n",
      "7 * 9 = 63\n",
      "8 * 1 = 8\n",
      "8 * 2 = 16\n",
      "8 * 3 = 24\n",
      "8 * 4 = 32\n",
      "8 * 5 = 40\n",
      "8 * 6 = 48\n",
      "8 * 7 = 56\n",
      "8 * 8 = 64\n",
      "8 * 9 = 72\n",
      "9 * 1 = 9\n",
      "9 * 2 = 18\n",
      "9 * 3 = 27\n",
      "9 * 4 = 36\n",
      "9 * 5 = 45\n",
      "9 * 6 = 54\n",
      "9 * 7 = 63\n",
      "9 * 8 = 72\n",
      "9 * 9 = 81\n"
     ]
    }
   ],
   "source": [
    "for x in range(1, 10):\n",
    "    for y in range(1, 10):\n",
    "        ans = x*y\n",
    "        print(str(x) + ' * ' + str(y) + ' = ' + str(ans))"
   ]
  },
  {
   "cell_type": "code",
   "execution_count": 1,
   "id": "a0db6296",
   "metadata": {
    "scrolled": true
   },
   "outputs": [
    {
     "name": "stdout",
     "output_type": "stream",
     "text": [
      "1*1=1\n",
      "1*2=2\n",
      "1*3=3\n",
      "1*4=4\n",
      "1*5=5\n",
      "1*6=6\n",
      "1*7=7\n",
      "1*8=8\n",
      "1*9=9\n",
      "2*1=2\n",
      "2*2=4\n",
      "2*3=6\n",
      "2*4=8\n",
      "2*5=10\n",
      "2*6=12\n",
      "2*7=14\n",
      "2*8=16\n",
      "2*9=18\n",
      "3*1=3\n",
      "3*2=6\n",
      "3*3=9\n",
      "3*4=12\n",
      "3*5=15\n",
      "3*6=18\n",
      "3*7=21\n",
      "3*8=24\n",
      "3*9=27\n",
      "4*1=4\n",
      "4*2=8\n",
      "4*3=12\n",
      "4*4=16\n",
      "4*5=20\n",
      "4*6=24\n",
      "4*7=28\n",
      "4*8=32\n",
      "4*9=36\n",
      "5*1=5\n",
      "5*2=10\n",
      "5*3=15\n",
      "5*4=20\n",
      "5*5=25\n",
      "5*6=30\n",
      "5*7=35\n",
      "5*8=40\n",
      "5*9=45\n",
      "6*1=6\n",
      "6*2=12\n",
      "6*3=18\n",
      "6*4=24\n",
      "6*5=30\n",
      "6*6=36\n",
      "6*7=42\n",
      "6*8=48\n",
      "6*9=54\n",
      "7*1=7\n",
      "7*2=14\n",
      "7*3=21\n",
      "7*4=28\n",
      "7*5=35\n",
      "7*6=42\n",
      "7*7=49\n",
      "7*8=56\n",
      "7*9=63\n",
      "8*1=8\n",
      "8*2=16\n",
      "8*3=24\n",
      "8*4=32\n",
      "8*5=40\n",
      "8*6=48\n",
      "8*7=56\n",
      "8*8=64\n",
      "8*9=72\n",
      "9*1=9\n",
      "9*2=18\n",
      "9*3=27\n",
      "9*4=36\n",
      "9*5=45\n",
      "9*6=54\n",
      "9*7=63\n",
      "9*8=72\n",
      "9*9=81\n"
     ]
    }
   ],
   "source": [
    "#老師解\n",
    "\n",
    "for i in range(1, 10):\n",
    "    for j in range(1, 10):\n",
    "        print('%d*%d=%d' % (i, j, i*j))"
   ]
  },
  {
   "cell_type": "markdown",
   "id": "36cf1016",
   "metadata": {},
   "source": [
    "### 題目3：費氏數列 (Fibonacci)\n",
    "● 第0項是0，第1項是1  \n",
    "● 第n項是前兩項(n-1),(n-2)的總和  \n",
    "● 0, 1, 1, 2, 3, 5, 8, 13"
   ]
  },
  {
   "cell_type": "code",
   "execution_count": 3,
   "id": "2f480764",
   "metadata": {},
   "outputs": [
    {
     "name": "stdout",
     "output_type": "stream",
     "text": [
      "請輸入一個正整數： 10\n",
      "1\n",
      "1\n",
      "2\n",
      "3\n",
      "5\n",
      "8\n",
      "13\n",
      "21\n",
      "34\n",
      "55\n"
     ]
    }
   ],
   "source": [
    "def fib(n):\n",
    "    if n == 0 or n == 1:\n",
    "        return n\n",
    "    else:\n",
    "        return fib(n-1) + fib(n-2) # 在函式中呼叫自己函式的作法，遞迴\n",
    "\n",
    "n = int(input('請輸入一個正整數： '))\n",
    "\n",
    "for i in range(1, n+1):\n",
    "    print(fib(i))\n"
   ]
  },
  {
   "cell_type": "markdown",
   "id": "e7d257d4",
   "metadata": {},
   "source": [
    "# 3-15 物件導向\n",
    "● 建立一個「人」的類別  \n",
    "● 有名字和年齡  \n",
    "● 會say hello"
   ]
  },
  {
   "cell_type": "code",
   "execution_count": 8,
   "id": "244045ff",
   "metadata": {},
   "outputs": [
    {
     "name": "stdout",
     "output_type": "stream",
     "text": [
      "Hello, I am Henry\n",
      "Hello, I am Henry\n",
      "Hello Vicky\n"
     ]
    }
   ],
   "source": [
    "class Person:\n",
    "    # 初始化函式，建立類別一定要寫上這個函式，是類別產生實例的時候初始化的動作，第一個參數一定要是 self\n",
    "    # 產生實例後，可以操作的的函式，第一個參數必須給實例使用\n",
    "    def __init__(self, name, age):\n",
    "        self.name = name # self 可以看做是自已的意思\n",
    "        self.age = age\n",
    "    def sayHello(self):\n",
    "        print('Hello, I am %s' % self.name)\n",
    "        \n",
    "    def response(yourName): # 靜態函式、靜態方法\n",
    "        print('Hello %s' % yourName)\n",
    "        \n",
    "per = Person('Henry', '22')\n",
    "per.sayHello()\n",
    "per.sayHello()\n",
    "Person.response('Vicky')"
   ]
  },
  {
   "cell_type": "code",
   "execution_count": 15,
   "id": "981004f8",
   "metadata": {},
   "outputs": [
    {
     "name": "stdout",
     "output_type": "stream",
     "text": [
      "pink 車正在以時速 20 公里的速度前進\n"
     ]
    }
   ],
   "source": [
    "class Car:\n",
    "    def __init__(self, color, speed):\n",
    "        self.color = color\n",
    "        self.speed = speed\n",
    "    def goAhead(self):\n",
    "        print('%s 車正在以時速 %s 公里的速度前進' % (self.color, self.speed))\n",
    "\n",
    "car = Car('pink', '20')\n",
    "car.goAhead()"
   ]
  },
  {
   "cell_type": "markdown",
   "id": "99e26346",
   "metadata": {},
   "source": [
    "# 3-16 物件導向\n",
    "### 繼承\n",
    "    ● 子類別繼承父類別後，可以使用父類別的屬性和功能\n",
    "    ● 子類別可以自訂屬性和函式\n",
    "    ● 子類別可以覆寫(override)父類別的方法"
   ]
  },
  {
   "cell_type": "code",
   "execution_count": 25,
   "id": "f619b721",
   "metadata": {},
   "outputs": [
    {
     "name": "stdout",
     "output_type": "stream",
     "text": [
      "Hello, I am Henry. My student ID is A106221025.\n",
      "My student ID is A106221025\n",
      "Hello, I am Vicky\n",
      "Hello, I am Henry. My student ID is A106221025.\n"
     ]
    }
   ],
   "source": [
    "class Person:\n",
    "    def __init__(self, name, age):\n",
    "        self.name = name\n",
    "        self.age = age\n",
    "    def sayHello(self):\n",
    "        print('Hello, I am %s' % self.name)\n",
    "        \n",
    "    def response(yourName):\n",
    "        print('Hello %s' % yourName)\n",
    "        \n",
    "class Student(Person):\n",
    "    def __init__(self, name, age, sid):\n",
    "        super().__init__(name, age)\n",
    "        self.sid = sid\n",
    "        \n",
    "    def showSid(self):\n",
    "        print('My student ID is %s' % self.sid)\n",
    "        \n",
    "    def sayHello(self):\n",
    "        print('Hello, I am %s. My student ID is %s.' % (self.name, self.sid))\n",
    "        \n",
    "teacher = Person('Vicky', '22')   \n",
    "stu = Student('Henry', '22', 'A106221025')\n",
    "\n",
    "stu.sayHello()\n",
    "stu.showSid()\n",
    "\n",
    "teacher.sayHello()\n",
    "stu.sayHello()\n"
   ]
  },
  {
   "cell_type": "markdown",
   "id": "bf04d95a",
   "metadata": {},
   "source": [
    "### 抽象類別\n",
    "    ● 父類別不實作函式中的程式碼，交由子類別實作\n",
    "    ● 抽象類別不能建立實例(instance)\n",
    "    ● 如果子類別沒有實作，將會跳出錯誤訊息\n",
    "    ● 抽象類別中尚未實作的函式，稱之為抽象函式"
   ]
  },
  {
   "cell_type": "code",
   "execution_count": 30,
   "id": "fcacc3b0",
   "metadata": {},
   "outputs": [
    {
     "name": "stdout",
     "output_type": "stream",
     "text": [
      "My teacher ID is A106221025\n"
     ]
    }
   ],
   "source": [
    "from abc import ABCMeta, abstractmethod\n",
    "\n",
    "class Employee(metaclass = ABCMeta):\n",
    "    def __init__(self, name, age):\n",
    "        self.name = name\n",
    "        self.age = age\n",
    "    \n",
    "    @abstractmethod\n",
    "    def showId():\n",
    "        pass\n",
    "    \n",
    "class Teacher(Employee):\n",
    "    def __init__(self, name, age, tid):\n",
    "        super().__init__(name, age)\n",
    "        self.tid = tid\n",
    "    def showId(self):\n",
    "        print('My teacher ID is %s' % self.tid)\n",
    "        \n",
    "tea = Teacher('Henry', '22', 'A106221025')\n",
    "tea.showId()"
   ]
  },
  {
   "cell_type": "markdown",
   "id": "a3e516a6",
   "metadata": {},
   "source": [
    "### 題目4：物件導向\n",
    "    ● 請依據物件導向課程單元中的範例，建立一個Employee父類別，與課程單元相同有name, age屬性，並且有一個抽象方法getSalary(bonus)。\n",
    "    ● Employee類別中的getSalary(bonus)是計算出薪水總和的方法。\n",
    "    ● 請建立Manager和Teacher兩個子類別，分別繼承於父類別Employee。\n",
    "    ● Manager的底薪是45,000元，Teacher的底薪是40,000元，請在實作時將底薪加上bonus\n",
    "\n",
    "最後請建立一個老師Mary和主管John的物件，Mary的獎金是2,000元，John的獎金是3,000元，請各自呼叫getSalary的函式確認結果。"
   ]
  },
  {
   "cell_type": "code",
   "execution_count": 49,
   "id": "40a7cc8d",
   "metadata": {},
   "outputs": [
    {
     "name": "stdout",
     "output_type": "stream",
     "text": [
      "48000\n",
      "42000\n"
     ]
    }
   ],
   "source": [
    "from abc import ABCMeta, abstractmethod\n",
    "\n",
    "class Employee(metaclass = ABCMeta):\n",
    "    def __init__(self, name, age):\n",
    "        self.name = name\n",
    "        self.age = age  \n",
    "    @abstractmethod\n",
    "    def getSalary(bonus):\n",
    "        pass\n",
    "\n",
    "class Manager(Employee):\n",
    "    def __init__(self, name, age):\n",
    "        super().__init__(name, age)\n",
    "    def getSalary(self, bonus):\n",
    "        print(45000+bonus)\n",
    "\n",
    "class Teacher(Employee):\n",
    "    def __init__(self, name, age):\n",
    "        super().__init__(name, age)\n",
    "    def getSalary(self, bonus):\n",
    "        print(40000+bonus)\n",
    "        \n",
    "\n",
    "manager = Manager('John', '30')\n",
    "teacher = Teacher('Mary', '22')\n",
    "manager.getSalary(3000)\n",
    "teacher.getSalary(2000)"
   ]
  },
  {
   "cell_type": "markdown",
   "id": "e9ac99ba",
   "metadata": {},
   "source": [
    "# 3-20 \n",
    "### Lambda\n",
    "    ● Python中函式是物件，基本上是用def定義，但也可以用lambda運算式定義函式\n",
    "    ● 語法是 lambda input1, input2, ...:expression\n",
    "    ● lambda不能夠有區塊"
   ]
  },
  {
   "cell_type": "code",
   "execution_count": 1,
   "id": "0548f1a5",
   "metadata": {},
   "outputs": [
    {
     "data": {
      "text/plain": [
       "21.04981790236894"
      ]
     },
     "execution_count": 1,
     "metadata": {},
     "output_type": "execute_result"
    }
   ],
   "source": [
    "def bmi(w, h):\n",
    "    return w/h**2\n",
    "bmi(63, 1.73)"
   ]
  },
  {
   "cell_type": "code",
   "execution_count": 2,
   "id": "80c3e9e0",
   "metadata": {},
   "outputs": [
    {
     "data": {
      "text/plain": [
       "21.04981790236894"
      ]
     },
     "execution_count": 2,
     "metadata": {},
     "output_type": "execute_result"
    }
   ],
   "source": [
    "bmi2 = lambda w, h: w/h**2\n",
    "bmi2(63, 1.73)"
   ]
  },
  {
   "cell_type": "markdown",
   "id": "cf5ebd75",
   "metadata": {},
   "source": [
    "#### Lambda中條件判斷\n",
    "\n",
    "    if 條件1:\n",
    "        執行程式1\n",
    "    elif 條件2:\n",
    "        執行程式2\n",
    "    else:\n",
    "        執行程式3\n",
    "        \n",
    "#### lambda x: 執行程式1 if 條件1 else 執行程式2 if 條件2 else 執行程式3"
   ]
  },
  {
   "cell_type": "code",
   "execution_count": 3,
   "id": "c3fa03d2",
   "metadata": {},
   "outputs": [
    {
     "data": {
      "text/plain": [
       "'體重正常'"
      ]
     },
     "execution_count": 3,
     "metadata": {},
     "output_type": "execute_result"
    }
   ],
   "source": [
    "res = lambda x: '體重過輕' if x<18.5 else '體重過重' if x>=24 else '體重正常'\n",
    "res(bmi2(63, 1.73))"
   ]
  },
  {
   "cell_type": "markdown",
   "id": "861a26dc",
   "metadata": {},
   "source": [
    "### filter函式\n",
    "    ● 過濾序列，移除掉不符合條件的元素，並且返回一個迭代器\n",
    "    ● filter(函式, 序列)\n",
    "    ● 範圍：將序列[8, 9, 10, 11, 12]過濾小於10的元素後回傳"
   ]
  },
  {
   "cell_type": "code",
   "execution_count": 33,
   "id": "e427cd2b",
   "metadata": {},
   "outputs": [
    {
     "name": "stdout",
     "output_type": "stream",
     "text": [
      "(10, 11, 12)\n"
     ]
    }
   ],
   "source": [
    "list_filter = [8, 9, 10, 11, 12]\n",
    "f = filter(lambda x: x>=10, [8, 9, 10, 11, 12])\n",
    "\n",
    "print(tuple(f))"
   ]
  },
  {
   "cell_type": "markdown",
   "id": "4999bc0a",
   "metadata": {},
   "source": [
    "### map函式\n",
    "    ● 依據所提供的函式對序列做映射\n",
    "    ● map(函式, 序列)\n",
    "    ● 範例：將序列[1, 2, 3]各加上後回傳"
   ]
  },
  {
   "cell_type": "code",
   "execution_count": 21,
   "id": "dda2134a",
   "metadata": {},
   "outputs": [
    {
     "name": "stdout",
     "output_type": "stream",
     "text": [
      "(2, 3, 4)\n"
     ]
    }
   ],
   "source": [
    "list2 = [1, 2, 3]\n",
    "m = map(lambda x: x+1, list2)\n",
    "print(tuple(m))"
   ]
  },
  {
   "cell_type": "code",
   "execution_count": null,
   "id": "9b770de8",
   "metadata": {},
   "outputs": [],
   "source": []
  }
 ],
 "metadata": {
  "kernelspec": {
   "display_name": "Python 3 (ipykernel)",
   "language": "python",
   "name": "python3"
  },
  "language_info": {
   "codemirror_mode": {
    "name": "ipython",
    "version": 3
   },
   "file_extension": ".py",
   "mimetype": "text/x-python",
   "name": "python",
   "nbconvert_exporter": "python",
   "pygments_lexer": "ipython3",
   "version": "3.9.12"
  }
 },
 "nbformat": 4,
 "nbformat_minor": 5
}
